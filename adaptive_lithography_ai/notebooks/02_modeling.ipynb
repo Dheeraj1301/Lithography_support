{
 "cells": [
  {
   "cell_type": "code",
   "execution_count": null,
   "id": "d1e9a358",
   "metadata": {
    "vscode": {
     "languageId": "plaintext"
    }
   },
   "outputs": [],
   "source": [
    "import torch\n",
    "from src.models.trainer import train_lstm_model\n",
    "from src.models.rl_agent import train_rl_agent\n",
    "from src.data.loader import load_processed_data\n",
    "\n",
    "X_train, y_train = load_processed_data()\n",
    "\n",
    "# Train LSTM\n",
    "train_lstm_model(X_train, y_train)\n",
    "\n",
    "# Train RL Agent\n",
    "train_rl_agent()\n"
   ]
  }
 ],
 "metadata": {
  "language_info": {
   "name": "python"
  }
 },
 "nbformat": 4,
 "nbformat_minor": 5
}
