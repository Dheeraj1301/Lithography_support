{
 "cells": [
  {
   "cell_type": "code",
   "execution_count": null,
   "id": "5ed463ab",
   "metadata": {
    "vscode": {
     "languageId": "plaintext"
    }
   },
   "outputs": [],
   "source": [
    "# EDA Notebook (Jupyter)\n",
    "import pandas as pd\n",
    "import matplotlib.pyplot as plt\n",
    "import seaborn as sns\n",
    "\n",
    "df = pd.read_csv(\"../data/raw/synthetic_litho.csv\")\n",
    "\n",
    "print(df.describe())\n",
    "\n",
    "sns.pairplot(df)\n",
    "plt.suptitle(\"Lithography Feature Distribution\", y=1.02)\n",
    "plt.tight_layout()\n",
    "plt.show()\n"
   ]
  }
 ],
 "metadata": {
  "language_info": {
   "name": "python"
  }
 },
 "nbformat": 4,
 "nbformat_minor": 5
}
